{
 "cells": [
  {
   "cell_type": "markdown",
   "metadata": {},
   "source": [
    "# Evidencia de aprendizaje Clases, Objetos y archivos de datos en Python"
   ]
  },
  {
   "cell_type": "markdown",
   "metadata": {},
   "source": [
    "## Encapsulamiento\n",
    "\n",
    "En el módulo sobre encapsulamiendo creamos la interfase de usuario \n",
    "(IU) graficar_rectas(recta_empinada, recta_plana, recta_abajo) que \n",
    "encapsula la tarea de graficar un número arbitrario de rectas con diferentes\n",
    "parámetros. Sigue esta mism receta para crear una IU que grafique un número \n",
    "arbitrario de polinomios de la forma $a x^{2}$\n",
    "\n",
    "donde 𝑎 y n son parámetros. Investiga sobre el operador de desempacado * y explica su uso en tu implementación."
   ]
  },
  {
   "cell_type": "markdown",
   "metadata": {},
   "source": [
    "### 1: se importan las librerias "
   ]
  },
  {
   "cell_type": "code",
   "execution_count": null,
   "metadata": {},
   "outputs": [],
   "source": [
    "import matplotlib.pyplot as plt\n",
    "import numpy as np"
   ]
  },
  {
   "cell_type": "markdown",
   "metadata": {},
   "source": [
    "### 2: construimos la clase Polinomio donde iniciamos el metodo constructor, definimos el metodo calcular_polinomio y el metodo graficar_poli"
   ]
  },
  {
   "cell_type": "code",
   "execution_count": null,
   "metadata": {},
   "outputs": [],
   "source": [
    "class Polinomio:\n",
    "\n",
    "    def __init__(self, a, n, start, stop, n_points):\n",
    "        self.coeficiente = a\n",
    "        self.exponente = n\n",
    "        self.x_range = np.linspace(start, stop, n_points)\n",
    "\n",
    "    def calcular_polinomio(self):\n",
    "        return self.coeficiente * self.x_range**self.exponente\n",
    "\n",
    "    def graficar_poli(self):\n",
    "        plt.plot(self.x_range, self.calcular_polinomio())\n",
    "        plt.show()"
   ]
  },
  {
   "cell_type": "markdown",
   "metadata": {},
   "source": [
    "### 3: definimos el metodo creacion_polinomio, aqui generamos  la operación $a x^{2}$ y retorna mos su valor"
   ]
  },
  {
   "cell_type": "code",
   "execution_count": null,
   "metadata": {},
   "outputs": [],
   "source": [
    "def creacion_polinomio(x, polinomio:Polinomio):\n",
    "    y = polinomio.coeficiente * x ** polinomio.exponente\n",
    "    return y"
   ]
  },
  {
   "cell_type": "markdown",
   "metadata": {},
   "source": [
    "### 4: definimos un método llamado graficar_polinomios que nos permite pasar varias instancias de la clase Polinomio. Para lograrlo, usamos el operador * en *polinomios: Polinomio, lo que permite que la función reciba un número indeterminado de argumentos de tipo Polinomio"
   ]
  },
  {
   "cell_type": "code",
   "execution_count": null,
   "metadata": {},
   "outputs": [],
   "source": [
    "def graficar_polinomios(*polinomios:Polinomio):\n",
    "    for polinomio in polinomios:\n",
    "        x = polinomio.x_range\n",
    "        plt.plot(x,creacion_polinomio(x, polinomio))\n",
    "    plt.show()\n",
    "    return 0"
   ]
  },
  {
   "cell_type": "markdown",
   "metadata": {},
   "source": [
    "### 5: instanciamos objetos de la clase Polinomio  y los graficamos con la función graficar polinomios "
   ]
  },
  {
   "cell_type": "code",
   "execution_count": null,
   "metadata": {},
   "outputs": [],
   "source": [
    "polinomio_cuadratico = Polinomio(2, 2, -10, 10, 100)\n",
    "polinomio_cubico = Polinomio(2,3, -10,10,100)\n",
    "graficar_polinomios(polinomio_cuadratico, polinomio_cubico)"
   ]
  },
  {
   "cell_type": "markdown",
   "metadata": {},
   "source": [
    "## Escritura de Datos en un Archivo CSV\n",
    "\n",
    "Escritura de Datos en un Archivo CSV. Escribe un script que guarde una lista de listas en un archivo llamado frutas.csv en tu directorio principal. La lista es la siguiente:\n",
    "\n",
    "frutas = [\n",
    " [\"Manzana\", \"Roja\", \"Dulce\"],\n",
    " [\"Plátano\", \"Amarillo\", \"Dulce\"],\n",
    " [\"Lima\", \"Verde\", \"Ácida\"]\n",
    "]\n",
    "\n",
    "Utiliza el módulo csv de Python para escribir en el archivo."
   ]
  },
  {
   "cell_type": "markdown",
   "metadata": {},
   "source": [
    "### 1: importamos la libreria csv para el manejo de archivos .csv"
   ]
  },
  {
   "cell_type": "code",
   "execution_count": 2,
   "metadata": {},
   "outputs": [],
   "source": [
    "import csv"
   ]
  },
  {
   "cell_type": "markdown",
   "metadata": {},
   "source": [
    "### 2: se define una lista de listas con el nombre de una fruta, su color y sabor."
   ]
  },
  {
   "cell_type": "code",
   "execution_count": 3,
   "metadata": {},
   "outputs": [],
   "source": [
    "frutas = [\n",
    " [\"Manzana\", \"Roja\", \"Dulce\"],\n",
    " [\"Plátano\", \"Amarillo\", \"Dulce\"],\n",
    " [\"Lima\", \"Verde\", \"Ácida\"]\n",
    "]"
   ]
  },
  {
   "cell_type": "markdown",
   "metadata": {},
   "source": [
    "### 3: abrimos un archivo .csv para escritura donde  descomponemos la lista 'frutas' y la escribimos en el archivo .csv"
   ]
  },
  {
   "cell_type": "code",
   "execution_count": 5,
   "metadata": {},
   "outputs": [],
   "source": [
    "with open('frutas.csv', mode='w', newline='') as archivo:\n",
    "    escritor_csv = csv.writer(archivo) \n",
    "    for fila in frutas:\n",
    "        escritor_csv.writerow(fila)"
   ]
  },
  {
   "cell_type": "markdown",
   "metadata": {},
   "source": [
    "## Lectura de Datos de un Archivo CSV\n",
    "\n",
    "Escribe un script que lea los datos del archivo frutas.csv creado en el Reto 1 y los almacene en una lista de listas llamada datos_frutas. Imprime la lista de listas. La salida debe ser similar a la siguiente:\n",
    "\n",
    "[[\"Manzana\", \"Roja\", \"Dulce\"], [\"Plátano\", \"Amarillo\", \"Dulce\"], [\"Lima\", \"Verde\", \"Ácida\"]]"
   ]
  },
  {
   "cell_type": "markdown",
   "metadata": {},
   "source": [
    "### 1: creamos una lista vacía "
   ]
  },
  {
   "cell_type": "code",
   "execution_count": 6,
   "metadata": {},
   "outputs": [],
   "source": [
    "datos_frutas = []"
   ]
  },
  {
   "cell_type": "markdown",
   "metadata": {},
   "source": [
    "### 2: Abrimos el archivo frutas.csv y con un for pasamos los datos del archivo csv a la lista vacía que habíamos creado con anterioridad"
   ]
  },
  {
   "cell_type": "code",
   "execution_count": 7,
   "metadata": {},
   "outputs": [],
   "source": [
    "with open('frutas.csv','r') as archivo:\n",
    "    lector_csv = csv.reader(archivo)\n",
    "    for fila in lector_csv:\n",
    "        datos_frutas.append(fila)"
   ]
  },
  {
   "cell_type": "markdown",
   "metadata": {},
   "source": [
    "### 3: imprimimos la lista datos_frutas"
   ]
  },
  {
   "cell_type": "code",
   "execution_count": 8,
   "metadata": {},
   "outputs": [
    {
     "name": "stdout",
     "output_type": "stream",
     "text": [
      "[['Manzana', 'Roja', 'Dulce'], ['Plátano', 'Amarillo', 'Dulce'], ['Lima', 'Verde', 'Ácida']]\n"
     ]
    }
   ],
   "source": [
    "print(datos_frutas)"
   ]
  },
  {
   "cell_type": "markdown",
   "metadata": {},
   "source": [
    "## Datos JSON en Python desde una API"
   ]
  },
  {
   "cell_type": "markdown",
   "metadata": {},
   "source": [
    "### 1: importamos las librerias  json y requests"
   ]
  },
  {
   "cell_type": "code",
   "execution_count": 9,
   "metadata": {},
   "outputs": [],
   "source": [
    "import json\n",
    "import requests"
   ]
  },
  {
   "cell_type": "markdown",
   "metadata": {},
   "source": [
    "### 2:  realizamos una solicitud HTTP a una fuente de datos JSON en este caso la de datos abiertos"
   ]
  },
  {
   "cell_type": "code",
   "execution_count": 10,
   "metadata": {},
   "outputs": [],
   "source": [
    "url = \"https://www.datos.gov.co/resource/nrst-mwx4.json\"\n",
    "respuesta_api = requests.get(url)"
   ]
  },
  {
   "cell_type": "markdown",
   "metadata": {},
   "source": [
    "### 3: convertimos la respuesta en formato JSON a una estructura de datos de Python"
   ]
  },
  {
   "cell_type": "code",
   "execution_count": 11,
   "metadata": {},
   "outputs": [],
   "source": [
    "lista_tareas = json.loads(respuesta_api.text)"
   ]
  },
  {
   "cell_type": "markdown",
   "metadata": {},
   "source": [
    "### 4: crear un diccionario para almacenar los abandonos por proveedor y año"
   ]
  },
  {
   "cell_type": "code",
   "execution_count": 12,
   "metadata": {},
   "outputs": [],
   "source": [
    "abandono_por_proveedor_anio = {}"
   ]
  },
  {
   "cell_type": "markdown",
   "metadata": {},
   "source": [
    "### 5: calculamos el total de abandonos para cada proveedor en cada año"
   ]
  },
  {
   "cell_type": "code",
   "execution_count": null,
   "metadata": {},
   "outputs": [],
   "source": [
    "for tarea in lista_tareas:\n",
    "    proveedor = tarea['proveedor']\n",
    "    anio = tarea['a_o']\n",
    "    abandonos = int(tarea.get('l_neas_retiradas', 0))  \n",
    "    \n",
    "    #Creamos una clave compuesta de proveedor y año\n",
    "    clave = (proveedor, anio)\n",
    "    \n",
    "    if clave in abandono_por_proveedor_anio:\n",
    "        abandono_por_proveedor_anio[clave] += abandonos\n",
    "    else:\n",
    "        abandono_por_proveedor_anio[clave] = abandonos\n"
   ]
  },
  {
   "cell_type": "markdown",
   "metadata": {},
   "source": [
    "### 6: se ordena el diccionario por cantidad de abandonos en un orden descendente"
   ]
  },
  {
   "cell_type": "code",
   "execution_count": 15,
   "metadata": {},
   "outputs": [],
   "source": [
    "proveedores_ordenados = dict(sorted(abandono_por_proveedor_anio.items(), key=lambda x: x[1], reverse=True))"
   ]
  },
  {
   "cell_type": "markdown",
   "metadata": {},
   "source": [
    "### 7: imprimimos los proveedores con más abandonos por año"
   ]
  },
  {
   "cell_type": "code",
   "execution_count": 17,
   "metadata": {},
   "outputs": [
    {
     "name": "stdout",
     "output_type": "stream",
     "text": [
      "COMUNICACION CELULAR S A COMCEL S A en 2016: 40451226\n",
      "COMUNICACION CELULAR S A COMCEL S A en 2021: 39235370\n",
      "COMUNICACION CELULAR S A COMCEL S A en 2020: 36629598\n",
      "COMUNICACION CELULAR S A COMCEL S A en 2022: 36596658\n",
      "COMUNICACION CELULAR S A COMCEL S A en 2017: 35880546\n",
      "COMUNICACION CELULAR S A COMCEL S A en 2018: 34921916\n",
      "COMUNICACION CELULAR S A COMCEL S A en 2019: 34212022\n",
      "COLOMBIA MOVIL  S.A ESP en 2022: 29965490\n",
      "COLOMBIA MOVIL  S.A ESP en 2021: 25014752\n",
      "COMUNICACION CELULAR S A COMCEL S A en 2023: 24739574\n",
      "COLOMBIA MOVIL  S.A ESP en 2023: 22334878\n",
      "COLOMBIA MOVIL  S.A ESP en 2019: 18086202\n",
      "COLOMBIA MOVIL  S.A ESP en 2018: 17631262\n",
      "COLOMBIA MOVIL  S.A ESP en 2017: 17592736\n",
      "COLOMBIA MOVIL  S.A ESP en 2020: 15588100\n",
      "COLOMBIA TELECOMUNICACIONES S.A. E.S.P. en 2022: 13336954\n",
      "COLOMBIA MOVIL  S.A ESP en 2016: 12060136\n",
      "COLOMBIA TELECOMUNICACIONES S.A. E.S.P. en 2020: 11794480\n",
      "COLOMBIA TELECOMUNICACIONES S.A. E.S.P. en 2018: 11325178\n",
      "COLOMBIA TELECOMUNICACIONES S.A. E.S.P. en 2017: 11184998\n",
      "COLOMBIA TELECOMUNICACIONES S.A. E.S.P. en 2016: 10061164\n",
      "COLOMBIA TELECOMUNICACIONES S.A. E.S.P. en 2021: 9828528\n",
      "COLOMBIA TELECOMUNICACIONES S.A. E.S.P. en 2019: 9787636\n",
      "COLOMBIA TELECOMUNICACIONES S.A. E.S.P. en 2023: 9598698\n",
      "COMUNICACION CELULAR S A COMCEL S A en 2015: 9588476\n",
      "PARTNERS TELECOM COLOMBIA SAS en 2022: 7177472\n",
      "PARTNERS TELECOM COLOMBIA SAS en 2023: 4756650\n",
      "AVANTEL S.A.S en 2020: 3487676\n",
      "VIRGIN MOBILE COLOMBIA S.A.S. en 2018: 2939664\n",
      "COLOMBIA MOVIL  S.A ESP en 2015: 2862542\n",
      "COLOMBIA TELECOMUNICACIONES S.A. E.S.P. en 2015: 2849774\n",
      "AVANTEL S.A.S en 2021: 2617506\n",
      "VIRGIN MOBILE COLOMBIA S.A.S. en 2016: 2577352\n",
      "VIRGIN MOBILE COLOMBIA S.A.S. en 2019: 2487846\n",
      "PARTNERS TELECOM COLOMBIA SAS en 2021: 2341878\n",
      "VIRGIN MOBILE COLOMBIA S.A.S. en 2017: 2335248\n",
      "AVANTEL S.A.S en 2018: 2298664\n",
      "AVANTEL S.A.S en 2017: 2272036\n",
      "ALMACENES EXITO INVERSIONES S.A.S. en 2019: 2204640\n",
      "VIRGIN MOBILE COLOMBIA S.A.S. en 2021: 2074754\n",
      "AVANTEL S.A.S en 2019: 1929116\n",
      "ALMACENES EXITO INVERSIONES S.A.S. en 2020: 1793258\n",
      "VIRGIN MOBILE COLOMBIA S.A.S. en 2020: 1766478\n",
      "ALMACENES EXITO INVERSIONES S.A.S. en 2021: 1569460\n",
      "ALMACENES EXITO INVERSIONES S.A.S. en 2018: 1161974\n",
      "EMPRESA DE TELECOMUNICACIONES DE BOGOTA S.A. ESP en 2017: 1122140\n",
      "LOGISTICA FLASH COLOMBIA S.A.S en 2019: 1119870\n",
      "AVANTEL S.A.S en 2016: 1101166\n",
      "EMPRESA DE TELECOMUNICACIONES DE BOGOTA S.A. ESP en 2018: 1097510\n",
      "VIRGIN MOBILE COLOMBIA S.A.S. en 2022: 1064100\n",
      "ALMACENES EXITO INVERSIONES S.A.S. en 2022: 1006424\n",
      "ALMACENES EXITO INVERSIONES S.A.S. en 2017: 921536\n",
      "EMPRESA DE TELECOMUNICACIONES DE BOGOTA S.A. ESP en 2019: 899932\n",
      "VIRGIN MOBILE COLOMBIA S.A.S. en 2015: 874946\n",
      "EMPRESA DE TELECOMUNICACIONES DE BOGOTA S.A. ESP en 2020: 778626\n",
      "ALMACENES EXITO INVERSIONES S.A.S. en 2016: 753560\n",
      "EMPRESA DE TELECOMUNICACIONES DE BOGOTA S.A. ESP en 2016: 645938\n",
      "VIRGIN MOBILE COLOMBIA S.A.S. en 2023: 621066\n",
      "EMPRESA DE TELECOMUNICACIONES DE BOGOTA S.A. ESP en 2021: 559570\n",
      "ALMACENES EXITO INVERSIONES S.A.S. en 2023: 383420\n",
      "EMPRESA DE TELECOMUNICACIONES DE BOGOTA S.A. ESP en 2022: 351180\n",
      "AVANTEL S.A.S en 2022: 345964\n",
      "LOGISTICA FLASH COLOMBIA S.A.S en 2020: 325288\n",
      "UFF MOVIL SAS en 2016: 321908\n",
      "UFF MOVIL SAS en 2015: 256096\n",
      "EMPRESA DE TELECOMUNICACIONES DE BOGOTA S.A. ESP en 2023: 191324\n",
      "LOGISTICA FLASH COLOMBIA S.A.S en 2021: 189536\n",
      "UNE EPM TELECOMUNICACIONES S.A. en 2017: 183602\n",
      "UNE EPM TELECOMUNICACIONES S.A. en 2016: 157458\n",
      "LOGISTICA FLASH COLOMBIA S.A.S en 2018: 136162\n",
      "AVANTEL S.A.S en 2015: 127628\n",
      "UFF MOVIL SAS en 2017: 97924\n",
      "EMPRESA DE TELECOMUNICACIONES DE BOGOTA S.A. ESP en 2015: 96264\n",
      "LOGISTICA FLASH COLOMBIA S.A.S en 2022: 85122\n",
      "SETROC MOBILE GROUP SAS en 2022: 67178\n",
      "UFF MOVIL SAS en 2018: 63092\n",
      "LOGISTICA FLASH COLOMBIA S.A.S en 2023: 61874\n",
      "UNE EPM TELECOMUNICACIONES S.A. en 2015: 51266\n",
      "SUMA MOVIL S.A.S. en 2022: 46592\n",
      "SETROC MOBILE GROUP SAS en 2023: 31910\n",
      "SUMA MOVIL S.A.S. en 2023: 25162\n",
      "SUMA MOVIL S.A.S. en 2021: 13570\n",
      "ALMACENES EXITO INVERSIONES S.A.S. en 2015: 9938\n",
      "LOV TELECOMUNICACIONES SAS en 2023: 2362\n",
      "SETROC MOBILE GROUP SAS en 2021: 1784\n",
      "SUMA MOVIL S.A.S. en 2020: 1214\n",
      "LOV TELECOMUNICACIONES SAS en 2022: 780\n",
      "SUMA MOVIL S.A.S. en 2019: 650\n",
      "LIWA SAS ESP en 2023: 432\n",
      "LIWA SAS ESP en 2022: 186\n",
      "SETROC MOBILE GROUP SAS en 2020: 184\n",
      "SUMA MOVIL S.A.S. en 2018: 92\n",
      "MERCANET SAS en 2021: 0\n",
      "INVERSIONES AMAPA S.A.S. en 2023: 0\n",
      "MERCANET SAS en 2022: 0\n",
      "MERCANET SAS en 2020: 0\n",
      "MERCANET SAS en 2019: 0\n",
      "MERCANET SAS en 2018: 0\n",
      "MERCANET SAS en 2017: 0\n",
      "MERCANET SAS en 2016: 0\n",
      "UNE EPM TELECOMUNICACIONES S.A. en 2018: 0\n",
      "EMPRESA COLOMBIANA DE PROCESOS TECNOLOGICOS, TECNOLOGIA Y COMUNICACIONES S.A. en 2020: 0\n"
     ]
    }
   ],
   "source": [
    "for (proveedor, anio), total_abandonos in proveedores_ordenados.items():\n",
    "    print(f\"{proveedor} en {anio}: {total_abandonos}\")"
   ]
  }
 ],
 "metadata": {
  "kernelspec": {
   "display_name": "Python 3",
   "language": "python",
   "name": "python3"
  },
  "language_info": {
   "codemirror_mode": {
    "name": "ipython",
    "version": 3
   },
   "file_extension": ".py",
   "mimetype": "text/x-python",
   "name": "python",
   "nbconvert_exporter": "python",
   "pygments_lexer": "ipython3",
   "version": "3.9.12"
  }
 },
 "nbformat": 4,
 "nbformat_minor": 2
}
